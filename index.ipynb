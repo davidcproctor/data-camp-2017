{
 "cells": [
  {
   "cell_type": "markdown",
   "metadata": {},
   "source": [
    "# Quarknet Data Camp 2017\n",
    "Try out these activities from any device with a browser (mobile or otherwise)\n",
    "- [Intro to Jupyter](./Intro_to_Jupyter.ipynb) is a short guide of how to use thsi stuff. If you've never programmed before, this is a great place to start.\n",
    "- [CMS Leptonic Analysis](./CMS_leptonic_decays.ipynb) digs into some gi-huge data sets from the LHC."
   ]
  }
 ],
 "metadata": {
  "kernelspec": {
   "display_name": "Python 3",
   "language": "python",
   "name": "python3"
  },
  "language_info": {
   "codemirror_mode": {
    "name": "ipython",
    "version": 3
   },
   "file_extension": ".py",
   "mimetype": "text/x-python",
   "name": "python",
   "nbconvert_exporter": "python",
   "pygments_lexer": "ipython3",
   "version": "3.5.2"
  }
 },
 "nbformat": 4,
 "nbformat_minor": 0
}
