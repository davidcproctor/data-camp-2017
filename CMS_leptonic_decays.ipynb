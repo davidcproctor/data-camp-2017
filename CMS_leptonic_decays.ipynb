{
 "cells": [
  {
   "cell_type": "markdown",
   "metadata": {},
   "source": [
    "# CMS Leptonic Decay Analysis\n",
    "\n",
    "This activity uses data from the CMS detector at CERN's LHC. It's actually the same activity we've used at Data Camp for several years, but using Python to pick it apart instead of a spreadsheet. The files contain collision events. You'll begin by looking at the events which included two muons in the decay products.\n",
    "\n",
    "Go to the menu bar above and select **Kernel > Restart & Run All**. Then, scroll down to **Part One**.\n",
    "\n",
    "*Note: You won't hurt anything by experimenting. If you break it, go to **File > Revert to checkpoint** to start over.*"
   ]
  },
  {
   "cell_type": "code",
   "execution_count": null,
   "metadata": {
    "collapsed": false
   },
   "outputs": [],
   "source": [
    "# imports some software packages we'll use\n",
    "import pandas as pd\n",
    "import numpy as np\n",
    "%matplotlib inline\n",
    "import matplotlib as mpl\n",
    "import matplotlib.pyplot as plt\n",
    "inline_rc = dict(mpl.rcParams)"
   ]
  },
  {
   "cell_type": "code",
   "execution_count": null,
   "metadata": {
    "collapsed": false
   },
   "outputs": [],
   "source": [
    "# a hashtag tells the program \"don't read the rest of the line\"\n",
    "# That way we can write \"comments\" to humans trying to figure out what the code does\n",
    "# Blank lines don't do anything either, but they can make the code easier to read\n",
    "\n",
    "two_u = pd.read_csv('https://github.com/adamlamee/HEP-data/raw/master/Double_Muon_Run2011A.csv')\n",
    "# two_e = pd.read_csv('https://github.com/adamlamee/HEP-data/raw/master/Double_Electron_Run2011A.csv')\n",
    "# one_u = pd.read_csv('https://github.com/adamlamee/HEP-data/raw/master/Single_Muon_Run2011A.csv')\n",
    "# one_e = pd.read_csv('https://github.com/adamlamee/HEP-data/raw/master/Single_Electron_Run2011A.csv')"
   ]
  },
  {
   "cell_type": "code",
   "execution_count": null,
   "metadata": {
    "collapsed": false
   },
   "outputs": [],
   "source": [
    "# The .head(n) command displays the first n rows of a file.\n",
    "two_u.head(3)"
   ]
  },
  {
   "cell_type": "code",
   "execution_count": null,
   "metadata": {
    "collapsed": false
   },
   "outputs": [],
   "source": [
    "# The .shape command displays the (number of rows , number of columns) in a file.\n",
    "two_u.shape"
   ]
  },
  {
   "cell_type": "markdown",
   "metadata": {},
   "source": [
    "## Part One\n",
    "Let's get acquainted with this dimuon data set. Look at the cells above to find the answers to the following questions:\n",
    "- In the table above, what do you think each of the column headings represent?\n",
    "- How many events does this data set contain?"
   ]
  },
  {
   "cell_type": "code",
   "execution_count": null,
   "metadata": {
    "collapsed": false
   },
   "outputs": [],
   "source": [
    "# you can specify a particular column of data with \"tableName.columnName\"\n",
    "histo_data = two_u.E1 + two_u.E2\n",
    "\n",
    "# makes the histogram\n",
    "plt.hist(histo_data, bins=10, range=[0,120], log=False)\n",
    "plt.title(\"Dimuon Events\")\n",
    "plt.xlabel(\"x-axis label\")\n",
    "plt.ylabel(\"number of events\")"
   ]
  },
  {
   "cell_type": "markdown",
   "metadata": {},
   "source": [
    "## Part Two\n",
    "The code above may take a few moments to run since it's grabbing a pretty big data set (>400,000 events!?). When it's finished, you'll see a histogram above.\n",
    "- What do you think the histogram above is showing? Try looking in the cell just before the graph to see the code that made it.\n",
    "- The x-axis label looks like it could use some work. Try typing a better label in the code before the graph. Then, \"execute\" the cell by pressing shift+enter or clicking the \"play\" icon in the toolbar.\n",
    "- It's also customary to plot this type of data on a log scale. Try that out.\n",
    "- The Z boson has a mass of around 90 GeV and can decay into two muons. Does your data incidate Z production? Tinkering with the histogram's range and number of bins might help your search."
   ]
  },
  {
   "cell_type": "markdown",
   "metadata": {},
   "source": [
    "## Part Three\n",
    "Try one of the following\n",
    "- Create a histogram to show the production of one of the [J/$\\Psi$](https://en.wikipedia.org/wiki/J/psi_meson) or [Upsilon](https://en.wikipedia.org/wiki/Upsilon_meson) ($\\Upsilon$).\n",
    "- (more coding) Look at a different decay channel. The second code cell in this activity (probably labeled \"ln[2]\") gives you some options.\n",
    "- (more math) If we're particle hunting, the previous plot really isn't the one we need. The mass of a particle isn't just equal to the toal energy of its decay products. If you recall what a relativistic 4-vector is, that could help replot your mass reconstruction more accurately."
   ]
  },
  {
   "cell_type": "markdown",
   "metadata": {},
   "source": [
    "## Bonus\n",
    "The cells below show some sillier or more advanced tehniques."
   ]
  },
  {
   "cell_type": "code",
   "execution_count": null,
   "metadata": {
    "collapsed": false
   },
   "outputs": [],
   "source": [
    "# run this command to make your plots look like they're from xkcd.com\n",
    "plt.xkcd()\n",
    "# then re-execute your code to make a plot and see it xkcd-ified."
   ]
  },
  {
   "cell_type": "code",
   "execution_count": null,
   "metadata": {
    "collapsed": true
   },
   "outputs": [],
   "source": [
    "# run this cell to make normal-looking plots again\n",
    "mpl.rcParams.update(inline_rc)"
   ]
  },
  {
   "cell_type": "code",
   "execution_count": null,
   "metadata": {
    "collapsed": false
   },
   "outputs": [],
   "source": [
    "# Making cuts on your data (i.e., filter your data set)\n",
    "#two_u_eta_cut = two_u[two_u.eta1 > 2 & two_u.eta2 > 2]\n",
    "\n",
    "# here's another\n",
    "#two_u_type_cut = two_u[two_u.Type1 == \"G\" & two_u.Type2 == \"G\"]"
   ]
  },
  {
   "cell_type": "markdown",
   "metadata": {
    "collapsed": true
   },
   "source": [
    "## Saving Your Work\n",
    "You have a few options:\n",
    "- File > Download as > ipynb (to continue your analysis later)\n",
    "- File > Download as > pdf (static copy including code and graphs)\n",
    "- Right-click on a graph and select Save Image As ... (to share a pic)"
   ]
  }
 ],
 "metadata": {
  "kernelspec": {
   "display_name": "Python 3",
   "language": "python",
   "name": "python3"
  },
  "language_info": {
   "codemirror_mode": {
    "name": "ipython",
    "version": 3
   },
   "file_extension": ".py",
   "mimetype": "text/x-python",
   "name": "python",
   "nbconvert_exporter": "python",
   "pygments_lexer": "ipython3",
   "version": "3.5.2"
  }
 },
 "nbformat": 4,
 "nbformat_minor": 0
}
